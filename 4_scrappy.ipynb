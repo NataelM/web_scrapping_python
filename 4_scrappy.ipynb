{
 "cells": [
  {
   "cell_type": "markdown",
   "id": "e69fc7fb-aed9-40c9-9e23-297f4b3b3472",
   "metadata": {},
   "source": [
    "-  instalar scrappy\n",
    "-  crear proyecto scrappy desde la consola con:\n",
    "       - scrappy startproject {nombre del proyecto} (sin corchetes)\n",
    "       después de esto ya voy a poder ver la estructura de los spiders para poder scrapear\n",
    "- correr el spider\n",
    "    scrapy crawl nombre araña -o nombre_salida.json"
   ]
  },
  {
   "cell_type": "markdown",
   "id": "46671633-875d-47e3-b374-50c90ce2cede",
   "metadata": {},
   "source": [
    "comando de creación de proyecto"
   ]
  },
  {
   "cell_type": "code",
   "execution_count": 1,
   "id": "80ee7e25-877a-4cff-848c-ff50a858becd",
   "metadata": {},
   "outputs": [
    {
     "name": "stdout",
     "output_type": "stream",
     "text": [
      "New Scrapy project 'books_scraper', using template directory 'C:\\Users\\jonat\\anaconda3\\lib\\site-packages\\scrapy\\templates\\project', created in:\n",
      "    C:\\Users\\jonat\\OneDrive\\Documentos\\Actuaria\\Scrapping\\books_scraper\n",
      "\n",
      "You can start your first spider with:\n",
      "    cd books_scraper\n",
      "    scrapy genspider example example.com\n"
     ]
    }
   ],
   "source": [
    "!scrapy startproject books_scraper"
   ]
  },
  {
   "cell_type": "markdown",
   "id": "8a4932d7-7e89-4501-9d8e-152380d0a242",
   "metadata": {},
   "source": [
    "Comando de ejecución de la araña\n",
    "\n",
    "#!scrapy crawl nombre_araña en la definición de la clase -o mybooks.json"
   ]
  },
  {
   "cell_type": "code",
   "execution_count": 1,
   "id": "3f921d12-6148-4619-b5bb-4ca93a27831f",
   "metadata": {},
   "outputs": [
    {
     "name": "stdout",
     "output_type": "stream",
     "text": [
      "Scrapy 2.6.2 - no active project\n",
      "\n",
      "Unknown command: crawl\n",
      "\n",
      "Use \"scrapy\" to see available commands\n"
     ]
    }
   ],
   "source": [
    "#!scrapy crawl BookSpider -o mybooks.json"
   ]
  }
 ],
 "metadata": {
  "kernelspec": {
   "display_name": "Python 3",
   "language": "python",
   "name": "python3"
  },
  "language_info": {
   "codemirror_mode": {
    "name": "ipython",
    "version": 3
   },
   "file_extension": ".py",
   "mimetype": "text/x-python",
   "name": "python",
   "nbconvert_exporter": "python",
   "pygments_lexer": "ipython3",
   "version": "3.8.13"
  }
 },
 "nbformat": 4,
 "nbformat_minor": 5
}
