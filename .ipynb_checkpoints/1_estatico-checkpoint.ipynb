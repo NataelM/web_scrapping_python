{
 "cells": [
  {
   "cell_type": "markdown",
   "id": "b6332e59-fc91-4ac9-87d2-30a7fe71db44",
   "metadata": {},
   "source": [
    "# Scrapping básico"
   ]
  },
  {
   "cell_type": "markdown",
   "id": "304c5381-cc7b-469a-b455-77ff73e7bfb7",
   "metadata": {},
   "source": [
    "# Conexion a un sitio web"
   ]
  },
  {
   "cell_type": "code",
   "execution_count": 1,
   "id": "f261cae8-d327-4d5c-895d-3b8dd761503b",
   "metadata": {},
   "outputs": [],
   "source": [
    "from urllib.request import urlopen"
   ]
  },
  {
   "cell_type": "code",
   "execution_count": 100,
   "id": "97504a73-325a-42bf-bebd-d0c5a3afbb1b",
   "metadata": {},
   "outputs": [],
   "source": [
    "pagina = 'https://gozdeveloper.com/gozchenko_maciasnetsov/'\n",
    "html = urlopen(pagina)"
   ]
  },
  {
   "cell_type": "code",
   "execution_count": 6,
   "id": "9e3ae212-0f18-4977-ad52-a6b66909633a",
   "metadata": {},
   "outputs": [
    {
     "name": "stdout",
     "output_type": "stream",
     "text": [
      "b'<!DOCTYPE html>\\n<html lang=\"en\">\\n<head>\\n  <meta charset=\"UTF-8\">\\n  <meta name=\"viewport\" content=\"width=device-width, initial-scale=1.0\">\\n  <meta http-equiv=\"X-UA-Compatible\" content=\"ie=edge\">\\n  <meta name=\"author\" content=\"Gustavo Gomez Macias (GOZ)\">\\n  <meta name=\"description\" content=\"Custom website for an imaginary academic\">\\n  <meta name=\"keywords\" content=\"academic, science, math, funny, developer, programmer\">\\n  <link href=\"https://fonts.googleapis.com/css?family=Playfair+Display&display=swap\" rel=\"stylesheet\">\\n  <link rel=\"stylesheet\" href=\"https://cdnjs.cloudflare.com/ajax/libs/font-awesome/5.9.0/css/all.min.css\" integrity=\"sha512-q3eWabyZPc1XTCmF+8/LuE1ozpg5xxn7iO89yfSOd5/oKvyqLngoNGsx8jq92Y8eXJ/IRxQbEC+FGSYxtk2oiw==\" crossorigin=\"anonymous\" referrerpolicy=\"no-referrer\" />  \\n  <link rel=\"stylesheet\" href=\"css/styles.css\">\\n  <title>Gozchenko Maciasnetsov</title>\\n</head>\\n<body>\\n  <a id=\"scroll_button\"></a>\\n  <div id=\"wrapper\">\\n    <header>\\n        <div class=\"contact\">\\n          <i class=\"fas fa-envelope-open-text\"></i> gozchenko@miskatonic.edu\\n        </div>\\n        <div class=\"contact\">\\n          <i class=\"fas fa-phone-square-alt\"></i> 555-5353-4353\\n        </div>\\n        <div class=\"contact\">\\n          <i class=\"fas fa-school\"></i> Universidad Nacional de Miskatonic  \\n        </div>\\n    </header>\\n    <section id=\"main_title\">\\n        <h1 id=\"name\">Gozchenko Maciasnetsov</h1>\\n        <h2 id=\"job\">Investigador Em\\xc3\\xa9rito</h2>\\n    </section>\\n    <div id=\"left_menu\">\\n      <nav>\\n        <ul>\\n          <li><a href=\"\">Inicio</a></li>\\n          <li><a href=\"\">Publicaciones</a></li>\\n          <li><a href=\"\">Pl\\xc3\\xa1ticas</a></li>\\n          <li><a href=\"\">Premios</a></li>\\n          <li><a href=\"\">Cursos</a></li>\\n          <li><a href=\"\">Investigaci\\xc3\\xb3n</a></li>\\n          <li><a href=\"\">CV completo</a></li>\\n          <li><a href=\"\">Estudiantes</a></li>\\n          <li><a href=\"\">Divulgaci\\xc3\\xb3n</a></li>\\n          <li id=\"university\">\\n            <img src=\"images/logo.png\" alt=\"school\" class=\"responsive_60\"><br>\\n            <span id=\"university_name\">Universidad Nacional de Miskatonic</span>\\n            <p>\\n              <span id=\"university_slogan\">\"Tan antigua que es blasfema\"</span>\\n            </p>\\n            </li>\\n        </ul>   \\n      </nav>\\n      <div id=\"content_1\">\\n        <div id=\"about\">\\n          <div id=\"presentation\">\\n            <span class=\"title\"><i class=\"fas fa-user\"></i> Semblanza</span>\\n            <p>\\n              Gozchenko Maciasnetsov nace en 1937 en un peque\\xc3\\xb1o pueblo a las afueras de Krakosia. Desde peque\\xc3\\xb1o \\n              mostr\\xc3\\xb3 una gran capacidad para las matem\\xc3\\xa1ticas as\\xc3\\xad como para incomodar a sus compa\\xc3\\xb1eros con sus impertinentes \\n              comentarios. Sus padres emigran a M\\xc3\\xa9xico en 1946. Gozchenko a sus 9 a\\xc3\\xb1os llega a un nuevo pa\\xc3\\xads, \\n              en el cual encontrar\\xc3\\xada sus mayores placeres: las demostraciones matem\\xc3\\xa1ticas y los tacos de tripa.\\n            </p>\\n            <p>\\n              Despu\\xc3\\xa9s de ganar todos los premios posibles durante su educaci\\xc3\\xb3n secundaria y preparatoria \\n              (en los colegios m\\xc3\\xa1s prestigiosos de M\\xc3\\xa9xico) un joven pero intelectualmente superior Gozchenko \\n              toma la desici\\xc3\\xb3n de estudiar Matem\\xc3\\xa1ticas, la madre de todas las ciencias, tal como lo dir\\xc3\\xada en su \\n              discurso de agradecimiento al recibir la medalla Majalo Lucy de la Sociedad Hawaiiana de Matem\\xc3\\xa1ticas.\\n            </p>\\n            <p>\\n              Realiz\\xc3\\xb3 su maestr\\xc3\\xada y doctorado de una forma brillante, siendo autom\\xc3\\xa1ticamente contratado como \\n              investigador de tiempo completo en su Alma Mater la Universidad Nacional de Miskatonic, lugar desde \\n              el cual sigue trabajando incansablemente despu\\xc3\\xa9s de varias d\\xc3\\xa9cadas con la distinci\\xc3\\xb3n de Investigador Em\\xc3\\xa9rito,\\n              un reconocimiento merecido pero insuficiente, tal como lo ha mencionado el Dr. Gozchenko en varias ocasiones.\\n            </p>\\n          </div>\\n          <div id=\"handsome\">\\n            <img src=\"images/gozchenko.jpg\" alt=\"Professor\" class=\"responsive_100\" ><br>\\n            <div id=\"phrase\">\"Para aquel que domina las matem\\xc3\\xa1ticas en su m\\xc3\\xa1s pura expresi\\xc3\\xb3n todo lo dem\\xc3\\xa1s es trivial\"</div>\\n          </div>\\n        </div>\\n        <div id=\"content_2\">\\n          <div class=\"column\">\\n            <span class=\"title\"><i class=\"fas fa-square-root-alt\"></i> L\\xc3\\xadneas de investigaci\\xc3\\xb3n</span>\\n            <ul id=\"research_lines\">\\n              <li>\\xc3\\x81lgebra Computacional y Aplicaciones.</li>\\n              <li>An\\xc3\\xa1lisis Funcional y Teor\\xc3\\xada de Operadores.</li>\\n              <li>An\\xc3\\xa1lisis Infinito-dimensional.</li>\\n              <li>An\\xc3\\xa1lisis y Simulaci\\xc3\\xb3n Num\\xc3\\xa9rica de Ecuaciones Diferenciales.</li>\\n              <li>Computaci\\xc3\\xb3n, Informaci\\xc3\\xb3n y Criptograf\\xc3\\xada Cu\\xc3\\xa1ntica.</li>\\n              <li>Control y Optimizaci\\xc3\\xb3n.</li>\\n              <li>Educaci\\xc3\\xb3n Matem\\xc3\\xa1tica.</li>\\n              <li>Ecuaciones Diferenciales y Aplicaciones.</li>\\n              <li>Geometr\\xc3\\xada Algebraica.</li>\\n              <li>Geometr\\xc3\\xada Diferencial y Simetr\\xc3\\xadas de Sistemas.</li>\\n              <li>Geometr\\xc3\\xada Real.</li>\\n            </ul>\\n          </div>\\n          <div class=\"column\">\\n            <span class=\"title\"><i class=\"fas fa-file-alt\"></i> Publicaciones destacadas</span>\\n            <ul id=\"publications\">\\n              <li>E. Q. Borel, G. Maciasnetsov, and O. Kobayashi.  Some splitting results for sub-multiply non-elliptic categories.Journalof Introductory Elliptic Potential Theory, 39:87\\xe2\\x80\\x93105, August 1994.</li>\\n              <li> G. Maciasnetsov, Q. Boole, and F. Miller.  Archimedes algebras and problems in classical rational geometry.Journal ofTheoretical Probability, 34:53\\xe2\\x80\\x9363, April 2002.</li>\\n              <li> G. Maciasnetsov. Introduction to Differential Category Theory. Alaska Mathematical Society. January 1996.</li>  \\n              <li>F. Martinez, G. Maciasnetsov, and Q. Nehru. Some ellipticity results for primes.Journalof Harmonic Mechanics, 64:307\\xe2\\x80\\x93399, January 1995</li>\\n              <li>R. Bhabha, G. Maciasnetsov, and C. Machiatto.Abstract K-Theory.  Icelandic Mathematical Society, 2000.</li>\\n            </ul>\\n          </div>\\n        </div>\\n        <div id=\"content_3\">\\n          <div class=\"column\">\\n            <span class=\"title\"><i class=\"fas fa-square-root-alt\"></i> \\xc3\\x9altimos Premios y Distinciones</span>\\n            <ul id=\"awards\">\\n              <li>Medalla de Ciencias del Congreso de Mauritania</li>\\n              <li>Premio Edward Fownchen de la Fundaci\\xc3\\xb3n Pajaritas</li>\\n              <li>Doctorado Honoris Causa por la Universidad de Cantoya </li>\\n              <li>Premio Principe de Wanas, Real Sociedad de Namibia</li>\\n              <li>Medalla Carlos Javier del Colegio de Ciencias de Catalu\\xc3\\xb1a</li>\\n            </ul>\\n          </div>\\n          <div class=\"column\">\\n            <span class=\"title\"><i class=\"fas fa-file-alt\"></i> Educaci\\xc3\\xb3n y trayectoria</span>\\n            <ul id=\"grades\">\\n              <li>Doctorado en Matem\\xc3\\xa1ticas, Universidad Nacional de Miskatonic</li>\\n              <li>Maestr\\xc3\\xada en Matem\\xc3\\xa1ticas, Universidad Nacional de Miskatonic</li>\\n              <li>Licenciatura en Matem\\xc3\\xa1ticas, Universidad Nacional de Miskatonic</li>\\n            </ul>\\n          </div>\\n        </div>\\n      </div>\\n    </div>\\n    <footer>\\n      <div class=\"footer_column logo2\">\\n        <img src=\"images/logo.png\" alt=\"logo\" class=\"responsive_50\"><br>\\n        Universidad Nacional de Miskatonic<br>\\n        <span class=\"footer_text_1\">\"Tan antigua que es blasfema\"</span>\\n      </div>\\n      <div class=\"footer_column\">\\n        Investigaci\\xc3\\xb3n<br>\\n        <a href=\"#\">Research Gate</a><br>\\n        <a href=\"#\">Google Scholar</a><br>\\n        <a href=\"#\">arXiv.org</a><br>\\n        <a href=\"#\">Scopus</a><br>\\n        <a href=\"#\">Web of Science</a><br>\\n        <a href=\"#\">SciELO</a><br>\\n      </div>\\n      <div class=\"footer_column\">\\n        Enlaces<br>\\n        <a href=\"#\">Facultad de Matem\\xc3\\xa1ticas</a><br>\\n        <a href=\"#\">Posgrado de Matem\\xc3\\xa1ticas</a><br>\\n        <a href=\"#\">Instituto de Matem\\xc3\\xa1ticas</a><br>\\n        <a href=\"#\">Revista de Matem\\xc3\\xa1ticas</a><br>\\n        <a href=\"#\">Sociedad de Matem\\xc3\\xa1ticas</a><br>\\n        <a href=\"#\">Premios de Matem\\xc3\\xa1ticas</a><br>\\n      </div>\\n      <div class=\"footer_column\">\\n        Contacto<br>\\n        <p class=\"footer_text_1\">\\n          Debido a mi intensiva carga cerebral al realizar mi investigaci\\xc3\\xb3n generalmente tardo entre uno y seis meses para responder su correo.\\n        </p>\\n        <span class=\"footer_text_1\">gozchenko@miskatonic.edu</span>\\n      </div>\\n    </footer>\\n    <div class=\"footer_text_2\">\\n      Gozchenco Maciasnetsov fue desarrollado por <a href=\"https://gustavogm.me\" target=\"_blank\"> Gustavo G\\xc3\\xb3mez Mac\\xc3\\xadas (GOZ)</a><br>\\n      Este es un SITIO WEB fue desarrollado para el <a href=\"https://gozdeveloper.com/python_webscraping\" target=\"_blank\">Taller de Web Scraping con Python</a><br>\\n      Toda la informaci\\xc3\\xb3n presentada en el sitio NO ES REAL.<br>\\n      Idea original, dise\\xc3\\xb1o y textos por Goz - 2022\\n   </div>\\n  </div>\\n  <script src=\"https://code.jquery.com/jquery-2.2.4.min.js\"\\n  integrity=\"sha256-BbhdlvQf/xTY9gja0Dq3HiwQF8LaCRTXxZKRutelT44=\" crossorigin=\"anonymous\">\\n  </script>\\n  <script>\\n    var btn = $(\\'#scroll_button\\');\\n    $(window).scroll(function () {\\n      if ($(window).scrollTop() > 300) {\\n        btn.addClass(\\'show\\');\\n      } else {\\n        btn.removeClass(\\'show\\');\\n      }\\n    });\\n    btn.on(\\'click\\', function (e) {\\n      e.preventDefault();\\n      $(\\'html, body\\').animate({ scrollTop: 0 }, \\'300\\');\\n    });\\n  </script>\\n</body>\\n</html>'\n"
     ]
    }
   ],
   "source": [
    "print(html.read()) #lectura del sitio web"
   ]
  },
  {
   "cell_type": "code",
   "execution_count": 19,
   "id": "fafb9437-aee5-4d8d-8287-4cea672cb913",
   "metadata": {},
   "outputs": [],
   "source": [
    "try:\n",
    "    html = urlopen('https://gozdeveloper.com/gozchenko_maciasnetsov/')\n",
    "    #print(html.read()) #lectura del sitio web\n",
    "except:\n",
    "    print('no se puede abrir')"
   ]
  },
  {
   "cell_type": "markdown",
   "id": "7ef42eaf-ad35-47a5-be22-b9970c5c3c8a",
   "metadata": {},
   "source": [
    "# Obtención de codigo de una página web y presentar en pantalla"
   ]
  },
  {
   "cell_type": "code",
   "execution_count": 89,
   "id": "6d492e55-5afe-40a5-9c12-2b917ea7fd5e",
   "metadata": {},
   "outputs": [],
   "source": [
    "from bs4 import BeautifulSoup\n",
    "import inspect"
   ]
  },
  {
   "cell_type": "code",
   "execution_count": 31,
   "id": "7d88fe64-e625-4b20-b5ea-34523c5c8549",
   "metadata": {},
   "outputs": [
    {
     "name": "stdout",
     "output_type": "stream",
     "text": [
      "<!DOCTYPE html>\n",
      "<html lang=\"en\">\n",
      " <head>\n",
      "  <meta charset=\"utf-8\"/>\n",
      "  <meta content=\"width=device-width, initial-scale=1.0\" name=\"viewport\"/>\n",
      "  <meta content=\"ie=edge\" http-equiv=\"X-UA-Compatible\"/>\n",
      "  <meta content=\"Gustavo Gomez Macias (GOZ)\" name=\"author\"/>\n",
      "  <meta content=\"Custom website for an imaginary academic\" name=\"description\"/>\n",
      "  <meta content=\"academic, science, math, funny, developer, programmer\" name=\"keywords\"/>\n",
      "  <link href=\"https://fonts.googleapis.com/css?family=Playfair+Display&amp;display=swap\" rel=\"stylesheet\"/>\n",
      "  <link crossorigin=\"anonymous\" href=\"https://cdnjs.cloudflare.com/ajax/libs/font-awesome/5.9.0/css/all.min.css\" integrity=\"sha512-q3eWabyZPc1XTCmF+8/LuE1ozpg5xxn7iO89yfSOd5/oKvyqLngoNGsx8jq92Y8eXJ/IRxQbEC+FGSYxtk2oiw==\" referrerpolicy=\"no-referrer\" rel=\"stylesheet\">\n",
      "   <link href=\"css/styles.css\" rel=\"stylesheet\"/>\n",
      "   <title>\n",
      "    Gozchenko Maciasnetsov\n",
      "   </title>\n",
      "  </link>\n",
      " </head>\n",
      " <body>\n",
      "  <a id=\"scroll_button\">\n",
      "  </a>\n",
      "  <div id=\"wrapper\">\n",
      "   <header>\n",
      "    <div class=\"contact\">\n",
      "     <i class=\"fas fa-envelope-open-text\">\n",
      "     </i>\n",
      "     gozchenko@miskatonic.edu\n",
      "    </div>\n",
      "    <div class=\"contact\">\n",
      "     <i class=\"fas fa-phone-square-alt\">\n",
      "     </i>\n",
      "     555-5353-4353\n",
      "    </div>\n",
      "    <div class=\"contact\">\n",
      "     <i class=\"fas fa-school\">\n",
      "     </i>\n",
      "     Universidad Nacional de Miskatonic\n",
      "    </div>\n",
      "   </header>\n",
      "   <section id=\"main_title\">\n",
      "    <h1 id=\"name\">\n",
      "     Gozchenko Maciasnetsov\n",
      "    </h1>\n",
      "    <h2 id=\"job\">\n",
      "     Investigador Emérito\n",
      "    </h2>\n",
      "   </section>\n",
      "   <div id=\"left_menu\">\n",
      "    <nav>\n",
      "     <ul>\n",
      "      <li>\n",
      "       <a href=\"\">\n",
      "        Inicio\n",
      "       </a>\n",
      "      </li>\n",
      "      <li>\n",
      "       <a href=\"\">\n",
      "        Publicaciones\n",
      "       </a>\n",
      "      </li>\n",
      "      <li>\n",
      "       <a href=\"\">\n",
      "        Pláticas\n",
      "       </a>\n",
      "      </li>\n",
      "      <li>\n",
      "       <a href=\"\">\n",
      "        Premios\n",
      "       </a>\n",
      "      </li>\n",
      "      <li>\n",
      "       <a href=\"\">\n",
      "        Cursos\n",
      "       </a>\n",
      "      </li>\n",
      "      <li>\n",
      "       <a href=\"\">\n",
      "        Investigación\n",
      "       </a>\n",
      "      </li>\n",
      "      <li>\n",
      "       <a href=\"\">\n",
      "        CV completo\n",
      "       </a>\n",
      "      </li>\n",
      "      <li>\n",
      "       <a href=\"\">\n",
      "        Estudiantes\n",
      "       </a>\n",
      "      </li>\n",
      "      <li>\n",
      "       <a href=\"\">\n",
      "        Divulgación\n",
      "       </a>\n",
      "      </li>\n",
      "      <li id=\"university\">\n",
      "       <img alt=\"school\" class=\"responsive_60\" src=\"images/logo.png\"/>\n",
      "       <br/>\n",
      "       <span id=\"university_name\">\n",
      "        Universidad Nacional de Miskatonic\n",
      "       </span>\n",
      "       <p>\n",
      "        <span id=\"university_slogan\">\n",
      "         \"Tan antigua que es blasfema\"\n",
      "        </span>\n",
      "       </p>\n",
      "      </li>\n",
      "     </ul>\n",
      "    </nav>\n",
      "    <div id=\"content_1\">\n",
      "     <div id=\"about\">\n",
      "      <div id=\"presentation\">\n",
      "       <span class=\"title\">\n",
      "        <i class=\"fas fa-user\">\n",
      "        </i>\n",
      "        Semblanza\n",
      "       </span>\n",
      "       <p>\n",
      "        Gozchenko Maciasnetsov nace en 1937 en un pequeño pueblo a las afueras de Krakosia. Desde pequeño \n",
      "              mostró una gran capacidad para las matemáticas así como para incomodar a sus compañeros con sus impertinentes \n",
      "              comentarios. Sus padres emigran a México en 1946. Gozchenko a sus 9 años llega a un nuevo país, \n",
      "              en el cual encontraría sus mayores placeres: las demostraciones matemáticas y los tacos de tripa.\n",
      "       </p>\n",
      "       <p>\n",
      "        Después de ganar todos los premios posibles durante su educación secundaria y preparatoria \n",
      "              (en los colegios más prestigiosos de México) un joven pero intelectualmente superior Gozchenko \n",
      "              toma la desición de estudiar Matemáticas, la madre de todas las ciencias, tal como lo diría en su \n",
      "              discurso de agradecimiento al recibir la medalla Majalo Lucy de la Sociedad Hawaiiana de Matemáticas.\n",
      "       </p>\n",
      "       <p>\n",
      "        Realizó su maestría y doctorado de una forma brillante, siendo automáticamente contratado como \n",
      "              investigador de tiempo completo en su Alma Mater la Universidad Nacional de Miskatonic, lugar desde \n",
      "              el cual sigue trabajando incansablemente después de varias décadas con la distinción de Investigador Emérito,\n",
      "              un reconocimiento merecido pero insuficiente, tal como lo ha mencionado el Dr. Gozchenko en varias ocasiones.\n",
      "       </p>\n",
      "      </div>\n",
      "      <div id=\"handsome\">\n",
      "       <img alt=\"Professor\" class=\"responsive_100\" src=\"images/gozchenko.jpg\"/>\n",
      "       <br/>\n",
      "       <div id=\"phrase\">\n",
      "        \"Para aquel que domina las matemáticas en su más pura expresión todo lo demás es trivial\"\n",
      "       </div>\n",
      "      </div>\n",
      "     </div>\n",
      "     <div id=\"content_2\">\n",
      "      <div class=\"column\">\n",
      "       <span class=\"title\">\n",
      "        <i class=\"fas fa-square-root-alt\">\n",
      "        </i>\n",
      "        Líneas de investigación\n",
      "       </span>\n",
      "       <ul id=\"research_lines\">\n",
      "        <li>\n",
      "         Álgebra Computacional y Aplicaciones.\n",
      "        </li>\n",
      "        <li>\n",
      "         Análisis Funcional y Teoría de Operadores.\n",
      "        </li>\n",
      "        <li>\n",
      "         Análisis Infinito-dimensional.\n",
      "        </li>\n",
      "        <li>\n",
      "         Análisis y Simulación Numérica de Ecuaciones Diferenciales.\n",
      "        </li>\n",
      "        <li>\n",
      "         Computación, Información y Criptografía Cuántica.\n",
      "        </li>\n",
      "        <li>\n",
      "         Control y Optimización.\n",
      "        </li>\n",
      "        <li>\n",
      "         Educación Matemática.\n",
      "        </li>\n",
      "        <li>\n",
      "         Ecuaciones Diferenciales y Aplicaciones.\n",
      "        </li>\n",
      "        <li>\n",
      "         Geometría Algebraica.\n",
      "        </li>\n",
      "        <li>\n",
      "         Geometría Diferencial y Simetrías de Sistemas.\n",
      "        </li>\n",
      "        <li>\n",
      "         Geometría Real.\n",
      "        </li>\n",
      "       </ul>\n",
      "      </div>\n",
      "      <div class=\"column\">\n",
      "       <span class=\"title\">\n",
      "        <i class=\"fas fa-file-alt\">\n",
      "        </i>\n",
      "        Publicaciones destacadas\n",
      "       </span>\n",
      "       <ul id=\"publications\">\n",
      "        <li>\n",
      "         E. Q. Borel, G. Maciasnetsov, and O. Kobayashi.  Some splitting results for sub-multiply non-elliptic categories.Journalof Introductory Elliptic Potential Theory, 39:87–105, August 1994.\n",
      "        </li>\n",
      "        <li>\n",
      "         G. Maciasnetsov, Q. Boole, and F. Miller.  Archimedes algebras and problems in classical rational geometry.Journal ofTheoretical Probability, 34:53–63, April 2002.\n",
      "        </li>\n",
      "        <li>\n",
      "         G. Maciasnetsov. Introduction to Differential Category Theory. Alaska Mathematical Society. January 1996.\n",
      "        </li>\n",
      "        <li>\n",
      "         F. Martinez, G. Maciasnetsov, and Q. Nehru. Some ellipticity results for primes.Journalof Harmonic Mechanics, 64:307–399, January 1995\n",
      "        </li>\n",
      "        <li>\n",
      "         R. Bhabha, G. Maciasnetsov, and C. Machiatto.Abstract K-Theory.  Icelandic Mathematical Society, 2000.\n",
      "        </li>\n",
      "       </ul>\n",
      "      </div>\n",
      "     </div>\n",
      "     <div id=\"content_3\">\n",
      "      <div class=\"column\">\n",
      "       <span class=\"title\">\n",
      "        <i class=\"fas fa-square-root-alt\">\n",
      "        </i>\n",
      "        Últimos Premios y Distinciones\n",
      "       </span>\n",
      "       <ul id=\"awards\">\n",
      "        <li>\n",
      "         Medalla de Ciencias del Congreso de Mauritania\n",
      "        </li>\n",
      "        <li>\n",
      "         Premio Edward Fownchen de la Fundación Pajaritas\n",
      "        </li>\n",
      "        <li>\n",
      "         Doctorado Honoris Causa por la Universidad de Cantoya\n",
      "        </li>\n",
      "        <li>\n",
      "         Premio Principe de Wanas, Real Sociedad de Namibia\n",
      "        </li>\n",
      "        <li>\n",
      "         Medalla Carlos Javier del Colegio de Ciencias de Cataluña\n",
      "        </li>\n",
      "       </ul>\n",
      "      </div>\n",
      "      <div class=\"column\">\n",
      "       <span class=\"title\">\n",
      "        <i class=\"fas fa-file-alt\">\n",
      "        </i>\n",
      "        Educación y trayectoria\n",
      "       </span>\n",
      "       <ul id=\"grades\">\n",
      "        <li>\n",
      "         Doctorado en Matemáticas, Universidad Nacional de Miskatonic\n",
      "        </li>\n",
      "        <li>\n",
      "         Maestría en Matemáticas, Universidad Nacional de Miskatonic\n",
      "        </li>\n",
      "        <li>\n",
      "         Licenciatura en Matemáticas, Universidad Nacional de Miskatonic\n",
      "        </li>\n",
      "       </ul>\n",
      "      </div>\n",
      "     </div>\n",
      "    </div>\n",
      "   </div>\n",
      "   <footer>\n",
      "    <div class=\"footer_column logo2\">\n",
      "     <img alt=\"logo\" class=\"responsive_50\" src=\"images/logo.png\"/>\n",
      "     <br/>\n",
      "     Universidad Nacional de Miskatonic\n",
      "     <br/>\n",
      "     <span class=\"footer_text_1\">\n",
      "      \"Tan antigua que es blasfema\"\n",
      "     </span>\n",
      "    </div>\n",
      "    <div class=\"footer_column\">\n",
      "     Investigación\n",
      "     <br/>\n",
      "     <a href=\"#\">\n",
      "      Research Gate\n",
      "     </a>\n",
      "     <br/>\n",
      "     <a href=\"#\">\n",
      "      Google Scholar\n",
      "     </a>\n",
      "     <br/>\n",
      "     <a href=\"#\">\n",
      "      arXiv.org\n",
      "     </a>\n",
      "     <br/>\n",
      "     <a href=\"#\">\n",
      "      Scopus\n",
      "     </a>\n",
      "     <br/>\n",
      "     <a href=\"#\">\n",
      "      Web of Science\n",
      "     </a>\n",
      "     <br/>\n",
      "     <a href=\"#\">\n",
      "      SciELO\n",
      "     </a>\n",
      "     <br/>\n",
      "    </div>\n",
      "    <div class=\"footer_column\">\n",
      "     Enlaces\n",
      "     <br/>\n",
      "     <a href=\"#\">\n",
      "      Facultad de Matemáticas\n",
      "     </a>\n",
      "     <br/>\n",
      "     <a href=\"#\">\n",
      "      Posgrado de Matemáticas\n",
      "     </a>\n",
      "     <br/>\n",
      "     <a href=\"#\">\n",
      "      Instituto de Matemáticas\n",
      "     </a>\n",
      "     <br/>\n",
      "     <a href=\"#\">\n",
      "      Revista de Matemáticas\n",
      "     </a>\n",
      "     <br/>\n",
      "     <a href=\"#\">\n",
      "      Sociedad de Matemáticas\n",
      "     </a>\n",
      "     <br/>\n",
      "     <a href=\"#\">\n",
      "      Premios de Matemáticas\n",
      "     </a>\n",
      "     <br/>\n",
      "    </div>\n",
      "    <div class=\"footer_column\">\n",
      "     Contacto\n",
      "     <br/>\n",
      "     <p class=\"footer_text_1\">\n",
      "      Debido a mi intensiva carga cerebral al realizar mi investigación generalmente tardo entre uno y seis meses para responder su correo.\n",
      "     </p>\n",
      "     <span class=\"footer_text_1\">\n",
      "      gozchenko@miskatonic.edu\n",
      "     </span>\n",
      "    </div>\n",
      "   </footer>\n",
      "   <div class=\"footer_text_2\">\n",
      "    Gozchenco Maciasnetsov fue desarrollado por\n",
      "    <a href=\"https://gustavogm.me\" target=\"_blank\">\n",
      "     Gustavo Gómez Macías (GOZ)\n",
      "    </a>\n",
      "    <br/>\n",
      "    Este es un SITIO WEB fue desarrollado para el\n",
      "    <a href=\"https://gozdeveloper.com/python_webscraping\" target=\"_blank\">\n",
      "     Taller de Web Scraping con Python\n",
      "    </a>\n",
      "    <br/>\n",
      "    Toda la información presentada en el sitio NO ES REAL.\n",
      "    <br/>\n",
      "    Idea original, diseño y textos por Goz - 2022\n",
      "   </div>\n",
      "  </div>\n",
      "  <script crossorigin=\"anonymous\" integrity=\"sha256-BbhdlvQf/xTY9gja0Dq3HiwQF8LaCRTXxZKRutelT44=\" src=\"https://code.jquery.com/jquery-2.2.4.min.js\">\n",
      "  </script>\n",
      "  <script>\n",
      "   var btn = $('#scroll_button');\n",
      "    $(window).scroll(function () {\n",
      "      if ($(window).scrollTop() > 300) {\n",
      "        btn.addClass('show');\n",
      "      } else {\n",
      "        btn.removeClass('show');\n",
      "      }\n",
      "    });\n",
      "    btn.on('click', function (e) {\n",
      "      e.preventDefault();\n",
      "      $('html, body').animate({ scrollTop: 0 }, '300');\n",
      "    });\n",
      "  </script>\n",
      " </body>\n",
      "</html>\n"
     ]
    }
   ],
   "source": [
    "try:\n",
    "    html = urlopen('https://gozdeveloper.com/gozchenko_maciasnetsov/')\n",
    "    #print(html.read()) #lectura del sitio web\n",
    "    \n",
    "    bs = BeautifulSoup(html.read(), # la primera entrada es el archivo en bytes de la página web\n",
    "                       'html.parser', # parseador; genera un objeto de beautiful soup\n",
    "                      )\n",
    "    print(bs.prettify()) #regresa una cadena de la página en html\n",
    "except:\n",
    "    print('no se puede abrir')"
   ]
  },
  {
   "cell_type": "markdown",
   "id": "2629e5c0-9500-41b4-bc05-0e61f0db983e",
   "metadata": {},
   "source": [
    "# Practica 1: Onbtener info de un sitio web stático"
   ]
  },
  {
   "cell_type": "code",
   "execution_count": 28,
   "id": "06a42ce1-578d-4460-965e-af767ce6931f",
   "metadata": {},
   "outputs": [],
   "source": [
    "from urllib.request import urlopen\n",
    "from bs4 import BeautifulSoup"
   ]
  },
  {
   "cell_type": "code",
   "execution_count": 56,
   "id": "da33f392-4a04-4485-8535-261aab0d0122",
   "metadata": {},
   "outputs": [],
   "source": [
    "html = urlopen('https://gozdeveloper.com/gozchenko_maciasnetsov/')    \n",
    "bs = BeautifulSoup(html.read(), # la primera entrada es el archivo en bytes de la página web\n",
    "                       'html.parser', # parseador; genera un objeto de beautiful soup\n",
    "                      )"
   ]
  },
  {
   "cell_type": "code",
   "execution_count": 93,
   "id": "2488a51e-c12c-424b-a9ac-ed2a30675bb8",
   "metadata": {},
   "outputs": [
    {
     "name": "stdout",
     "output_type": "stream",
     "text": [
      "[<div class=\"contact\">\n",
      "<i class=\"fas fa-envelope-open-text\"></i> gozchenko@miskatonic.edu\n",
      "        </div>, <div class=\"contact\">\n",
      "<i class=\"fas fa-phone-square-alt\"></i> 555-5353-4353\n",
      "        </div>, <div class=\"contact\">\n",
      "<i class=\"fas fa-school\"></i> Universidad Nacional de Miskatonic  \n",
      "        </div>] <class 'bs4.element.ResultSet'>\n",
      "gozchenko@miskatonic.edu\n",
      "         555-5353-4353\n",
      "         Universidad Nacional de Miskatonic  \n",
      "        \n"
     ]
    }
   ],
   "source": [
    "# datos de contacto            \n",
    "    #find all es apra buscar más de una etiqueta\n",
    "contacts = bs.find_all('div', #buscar los elementos que son \"div\"\n",
    "                      {'class' : 'contact'} #de todas las \"div\" que seas de clase \"contact\" te voy a traer todo\n",
    "                           )\n",
    "print(contacts, type(contacts)) #tregresa un iterable parecido a una lista \n",
    "        \n",
    "email = contacts[0].text\n",
    "email = email.lstrip()\n",
    "phone = contacts[1].text\n",
    "phone = phone.lstrip()\n",
    "university = contacts[2].text\n",
    "university = university.lstrip()\n",
    "\n",
    "print(email, phone, university)"
   ]
  },
  {
   "cell_type": "code",
   "execution_count": 55,
   "id": "7066f743-5091-44c6-a24e-a57154c764e8",
   "metadata": {},
   "outputs": [
    {
     "name": "stdout",
     "output_type": "stream",
     "text": [
      "Gozchenko Maciasnetsov\n"
     ]
    }
   ],
   "source": [
    "#### traer el nombre completo\n",
    "complete_name = bs.find('h1', #buscar la etiqueta \"h1\"\n",
    "                        id = 'name' #en donde el \"id\" (atributo de la etiqueta) sea el nombre de la etiqueta \"name\"\n",
    "                        ).string\n",
    "print(complete_name)"
   ]
  },
  {
   "cell_type": "code",
   "execution_count": 54,
   "id": "1eb29c12-4a74-42ff-8d7e-6f9e393f325b",
   "metadata": {},
   "outputs": [
    {
     "name": "stdout",
     "output_type": "stream",
     "text": [
      "Investigador Emérito\n"
     ]
    }
   ],
   "source": [
    "#### traer el cargo\n",
    "job = bs.find('h2', #buscar la etiqueta \"h1\"\n",
    "              id = 'job' #en donde el \"id\" (atributo de la etiqueta) sea el nombre de la etiqueta \"name\"\n",
    "             ).string\n",
    "print(job)"
   ]
  },
  {
   "cell_type": "code",
   "execution_count": 91,
   "id": "04b04782-3d9a-4583-b4bb-270a5de20dd6",
   "metadata": {},
   "outputs": [
    {
     "name": "stdout",
     "output_type": "stream",
     "text": [
      "-----\n",
      " <div id=\"presentation\">\n",
      "<span class=\"title\"><i class=\"fas fa-user\"></i> Semblanza</span>\n",
      "<p>\n",
      "              Gozchenko Maciasnetsov nace en 1937 en un pequeño pueblo a las afueras de Krakosia. Desde pequeño \n",
      "              mostró una gran capacidad para las matemáticas así como para incomodar a sus compañeros con sus impertinentes \n",
      "              comentarios. Sus padres emigran a México en 1946. Gozchenko a sus 9 años llega a un nuevo país, \n",
      "              en el cual encontraría sus mayores placeres: las demostraciones matemáticas y los tacos de tripa.\n",
      "            </p>\n",
      "<p>\n",
      "              Después de ganar todos los premios posibles durante su educación secundaria y preparatoria \n",
      "              (en los colegios más prestigiosos de México) un joven pero intelectualmente superior Gozchenko \n",
      "              toma la desición de estudiar Matemáticas, la madre de todas las ciencias, tal como lo diría en su \n",
      "              discurso de agradecimiento al recibir la medalla Majalo Lucy de la Sociedad Hawaiiana de Matemáticas.\n",
      "            </p>\n",
      "<p>\n",
      "              Realizó su maestría y doctorado de una forma brillante, siendo automáticamente contratado como \n",
      "              investigador de tiempo completo en su Alma Mater la Universidad Nacional de Miskatonic, lugar desde \n",
      "              el cual sigue trabajando incansablemente después de varias décadas con la distinción de Investigador Emérito,\n",
      "              un reconocimiento merecido pero insuficiente, tal como lo ha mencionado el Dr. Gozchenko en varias ocasiones.\n",
      "            </p>\n",
      "</div>\n"
     ]
    }
   ],
   "source": [
    "#### traer la semblanza\n",
    "semblance = bs.find('div', #buscar la etiqueta \"h1\"\n",
    "              id = 'presentation' #en donde el \"id\" (atributo de la etiqueta) sea el nombre de la etiqueta \"name\"\n",
    "             )\n",
    "\n",
    "semblance_l = []\n",
    "for hijo in semblance.children:\n",
    "    if hijo != '\\n':\n",
    "        semblance_l.append(inspect.cleandoc(hijo.text).replace('\\n', ''))\n",
    "\n",
    "print('-----\\n',semblance)"
   ]
  },
  {
   "cell_type": "code",
   "execution_count": 60,
   "id": "73e6e588-ff05-48de-93ce-b064bdc5595f",
   "metadata": {},
   "outputs": [
    {
     "name": "stdout",
     "output_type": "stream",
     "text": [
      "\"Para aquel que domina las matemáticas en su más pura expresión todo lo demás es trivial\" dato = <class 'bs4.element.NavigableString'>\n"
     ]
    }
   ],
   "source": [
    "# obtenemos la frase\n",
    "phrase = bs.find('div',\n",
    "                id = 'phrase').string\n",
    "print(phrase, 'dato =', type(phrase))"
   ]
  },
  {
   "cell_type": "code",
   "execution_count": 75,
   "id": "1e67b33c-95de-4649-9f3e-7004c6651d2f",
   "metadata": {},
   "outputs": [
    {
     "data": {
      "text/plain": [
       "['Álgebra Computacional y Aplicaciones',\n",
       " 'Análisis Funcional y Teoría de Operadores',\n",
       " 'Análisis Infinito-dimensional',\n",
       " 'Análisis y Simulación Numérica de Ecuaciones Diferenciales',\n",
       " 'Computación, Información y Criptografía Cuántica',\n",
       " 'Control y Optimización',\n",
       " 'Educación Matemática',\n",
       " 'Ecuaciones Diferenciales y Aplicaciones',\n",
       " 'Geometría Algebraica',\n",
       " 'Geometría Diferencial y Simetrías de Sistemas',\n",
       " 'Geometría Real']"
      ]
     },
     "execution_count": 75,
     "metadata": {},
     "output_type": "execute_result"
    }
   ],
   "source": [
    "#obtenemos las lineas de investigacion\n",
    "research_lines = bs.find('ul',\n",
    "                        id = 'research_lines'\n",
    "                        )\n",
    "\n",
    "research_l = []\n",
    "for child in research_lines.children:\n",
    "    if child != '\\n':\n",
    "        research_l.append(child.text[:-1]) # traemos toda la cadena menos el ultimo elemento\n",
    "research_l"
   ]
  },
  {
   "cell_type": "code",
   "execution_count": 92,
   "id": "a5d2f1bc-d426-4c02-8093-9d63dc272f7b",
   "metadata": {},
   "outputs": [
    {
     "data": {
      "text/plain": [
       "['E. Q. Borel, G. Maciasnetsov, and O. Kobayashi.  Some splitting results for sub-multiply non-elliptic categories.Journalof Introductory Elliptic Potential Theory, 39:87–105, August 1994',\n",
       " 'G. Maciasnetsov, Q. Boole, and F. Miller.  Archimedes algebras and problems in classical rational geometry.Journal ofTheoretical Probability, 34:53–63, April 2002',\n",
       " 'G. Maciasnetsov. Introduction to Differential Category Theory. Alaska Mathematical Society. January 1996',\n",
       " 'F. Martinez, G. Maciasnetsov, and Q. Nehru. Some ellipticity results for primes.Journalof Harmonic Mechanics, 64:307–399, January 199',\n",
       " 'R. Bhabha, G. Maciasnetsov, and C. Machiatto.Abstract K-Theory.  Icelandic Mathematical Society, 2000']"
      ]
     },
     "execution_count": 92,
     "metadata": {},
     "output_type": "execute_result"
    }
   ],
   "source": [
    "#obtenemos las publicaciones\n",
    "publications = bs.find('ul',\n",
    "                        id = 'publications'\n",
    "                        )\n",
    "\n",
    "publications_l = []\n",
    "for child in publications.children:\n",
    "    if child != '\\n':\n",
    "        publications_l.append(child.text[:-1].lstrip()) # traemos toda la cadena menos el ultimo elemento\n",
    "publications_l"
   ]
  },
  {
   "cell_type": "code",
   "execution_count": 73,
   "id": "7421f9d6-a575-4a82-a708-94866dc11124",
   "metadata": {},
   "outputs": [
    {
     "data": {
      "text/plain": [
       "['Medalla de Ciencias del Congreso de Mauritani',\n",
       " 'Premio Edward Fownchen de la Fundación Pajarita',\n",
       " 'Doctorado Honoris Causa por la Universidad de Cantoya',\n",
       " 'Premio Principe de Wanas, Real Sociedad de Namibi',\n",
       " 'Medalla Carlos Javier del Colegio de Ciencias de Cataluñ']"
      ]
     },
     "execution_count": 73,
     "metadata": {},
     "output_type": "execute_result"
    }
   ],
   "source": [
    "#obtenemos los premios obtenidos\n",
    "awards = bs.find('ul',\n",
    "                        id = 'awards'\n",
    "                        )\n",
    "\n",
    "awards_l = []\n",
    "for child in awards.children:\n",
    "    if child != '\\n':\n",
    "        awards_l.append(child.text[:-1]) # traemos toda la cadena menos el ultimo elemento\n",
    "awards_l"
   ]
  },
  {
   "cell_type": "code",
   "execution_count": 85,
   "id": "3f2e4ad9-03dc-4858-8b5a-81de991303b1",
   "metadata": {},
   "outputs": [],
   "source": [
    "   # Obtenemos los grados\n",
    "grades = bs.find('ul', \n",
    "                 id=\"grades\")\n",
    "grades_list = []\n",
    "for child in grades.children:\n",
    "    if child != '\\n':\n",
    "        grades_list.append(child.text)\n",
    "\n",
    "# grades_list"
   ]
  },
  {
   "cell_type": "code",
   "execution_count": 88,
   "id": "bd462b6b-8c45-45fe-9fd0-792cd19d76f6",
   "metadata": {},
   "outputs": [],
   "source": [
    "# escritutura de un txt\n",
    "with open('./gozchenko.txt', 'w') as file_object:\n",
    "        file_object.write('PRACTICA 1 - Taller de Web Scraping\\n')\n",
    "        file_object.write(f'\\nAcademico/a: {complete_name}')\n",
    "        file_object.write(f'\\nEmail: {email}')\n",
    "        file_object.write(f'\\nTélefono: {phone}')\n",
    "        file_object.write(f'\\nUniversidad: {university}')\n",
    "        file_object.write(f'\\n---------------------------------------------------------------')\n",
    "        for semblance in semblance_l:\n",
    "            file_object.write(f'\\n{semblance}')\n",
    "        file_object.write(f'\\n---------------------------------------------------------------')\n",
    "        file_object.write(f'\\nLíneas de investigación:')\n",
    "        for research_line in research_l:\n",
    "            file_object.write(f'\\n{research_line}')\n",
    "        file_object.write(f'\\n---------------------------------------------------------------')\n",
    "        file_object.write(f'\\nPublicaciones:')        \n",
    "        for publication in publications_l:\n",
    "            file_object.write(f'\\n{publication}')                \n",
    "        file_object.write(f'\\n---------------------------------------------------------------')\n",
    "        file_object.write(f'\\nPremios:')        \n",
    "        for award in awards_l:\n",
    "            file_object.write(f'\\n{award}')\n",
    "        for publication in publications_l:\n",
    "            file_object.write(f'\\n{publication}')                \n",
    "        file_object.write(f'\\n---------------------------------------------------------------')\n",
    "        file_object.write(f'\\nPremios:')"
   ]
  },
  {
   "cell_type": "markdown",
   "id": "69647919-3d6f-487a-b9fb-c775b478d691",
   "metadata": {},
   "source": [
    "## Obtener todas las imagenes de un sitio web"
   ]
  },
  {
   "cell_type": "code",
   "execution_count": 94,
   "id": "a3128083-db07-4786-9588-c6a5e3af3f5c",
   "metadata": {},
   "outputs": [],
   "source": [
    "import re"
   ]
  },
  {
   "cell_type": "code",
   "execution_count": 96,
   "id": "dc167afa-98af-4033-9ce2-d62725fdb5c9",
   "metadata": {},
   "outputs": [
    {
     "name": "stdout",
     "output_type": "stream",
     "text": [
      "[<img alt=\"school\" class=\"responsive_60\" src=\"images/logo.png\"/>, <img alt=\"Professor\" class=\"responsive_100\" src=\"images/gozchenko.jpg\"/>, <img alt=\"logo\" class=\"responsive_50\" src=\"images/logo.png\"/>]\n"
     ]
    }
   ],
   "source": [
    "images = bs.find_all('img')\n",
    "print(images)"
   ]
  },
  {
   "cell_type": "markdown",
   "id": "00e58a6f-a613-432f-a7ba-a804fbe59f73",
   "metadata": {},
   "source": [
    "Lo que buscaremos para las imagenes es el src para saber la dirección de la imagen "
   ]
  },
  {
   "cell_type": "code",
   "execution_count": 97,
   "id": "bb4f4b74-b4cc-4cae-b297-bad56a1f551b",
   "metadata": {},
   "outputs": [
    {
     "name": "stdout",
     "output_type": "stream",
     "text": [
      "<img alt=\"school\" class=\"responsive_60\" src=\"images/logo.png\"/>\n",
      "<img alt=\"Professor\" class=\"responsive_100\" src=\"images/gozchenko.jpg\"/>\n",
      "<img alt=\"logo\" class=\"responsive_50\" src=\"images/logo.png\"/>\n"
     ]
    }
   ],
   "source": [
    "images = bs.find_all('img',\n",
    "                     {'src': re.compile('[A-za-z]*.[png|jpg]')}\n",
    "                    )\n",
    "\n",
    "for image in images:\n",
    "    print(image)"
   ]
  },
  {
   "cell_type": "markdown",
   "id": "6cbbb916-89bc-44fb-951e-6ddf9e512bbb",
   "metadata": {},
   "source": [
    "tenemos 3 imagenes"
   ]
  },
  {
   "cell_type": "code",
   "execution_count": 101,
   "id": "bd9e58b5-d354-4af3-baf4-67b69f7167eb",
   "metadata": {},
   "outputs": [
    {
     "data": {
      "text/plain": [
       "'https://gozdeveloper.com/gozchenko_maciasnetsov/'"
      ]
     },
     "execution_count": 101,
     "metadata": {},
     "output_type": "execute_result"
    }
   ],
   "source": [
    "pagina"
   ]
  },
  {
   "cell_type": "code",
   "execution_count": 103,
   "id": "323a1578-df3b-41ec-8fae-7dadb3af088f",
   "metadata": {},
   "outputs": [
    {
     "name": "stdout",
     "output_type": "stream",
     "text": [
      "https://gozdeveloper.com/gozchenko_maciasnetsov/images/logo.png\n",
      "https://gozdeveloper.com/gozchenko_maciasnetsov/images/gozchenko.jpg\n",
      "https://gozdeveloper.com/gozchenko_maciasnetsov/images/logo.png\n"
     ]
    }
   ],
   "source": [
    "for image in images:\n",
    "    # podemos acceder a donde se almacenan las imagenes como si fueran un diccionario\n",
    "    # accedemos de esta manera porque el src de las imagenes que buscamos \n",
    "    # viene con rutas relativas\n",
    "    print(pagina + image['src'])"
   ]
  },
  {
   "cell_type": "code",
   "execution_count": 105,
   "id": "02554727-fb06-437a-aad9-8ab991015161",
   "metadata": {},
   "outputs": [],
   "source": [
    "import urllib.request"
   ]
  },
  {
   "cell_type": "code",
   "execution_count": 115,
   "id": "07da29d4-eead-41da-96c7-e38e7fefa54d",
   "metadata": {},
   "outputs": [
    {
     "name": "stdout",
     "output_type": "stream",
     "text": [
      "https://gozdeveloper.com/gozchenko_maciasnetsov/images/logo.png\n",
      "https://gozdeveloper.com/gozchenko_maciasnetsov/images/gozchenko.jpg\n",
      "https://gozdeveloper.com/gozchenko_maciasnetsov/images/logo.png\n"
     ]
    }
   ],
   "source": [
    "for image in images:\n",
    "    # podemos acceder a donde se almacenan las imagenes como si fueran un diccionario\n",
    "    # accedemos de esta manera porque el src de las imagenes que buscamos \n",
    "    # viene con rutas relativas\n",
    "    print(pagina + image['src'])\n",
    "    \n",
    "    #con esto limpiamos la ruta del image para que no nos pida crear la carpeta /image\n",
    "    #image_2 = image['src'].replace('img/', '')\n",
    "    urllib.request.urlretrieve(pagina + image['src'], # url de donde voy a ir a decargar\n",
    "                               f'./{image[\"src\"]}' # nombre con el que se va aguardar\n",
    "                              )"
   ]
  },
  {
   "cell_type": "markdown",
   "id": "a393e9d0-6dc3-440e-8128-d3274774b705",
   "metadata": {},
   "source": [
    "Con el urlretrive podemos descargar cualquier tipo de archivos no solo las imagenes, csv, etc"
   ]
  },
  {
   "cell_type": "code",
   "execution_count": null,
   "id": "f9315c44-eef5-4a40-87a8-a7d84c4a1d27",
   "metadata": {},
   "outputs": [],
   "source": []
  }
 ],
 "metadata": {
  "kernelspec": {
   "display_name": "Python 3",
   "language": "python",
   "name": "python3"
  },
  "language_info": {
   "codemirror_mode": {
    "name": "ipython",
    "version": 3
   },
   "file_extension": ".py",
   "mimetype": "text/x-python",
   "name": "python",
   "nbconvert_exporter": "python",
   "pygments_lexer": "ipython3",
   "version": "3.8.13"
  }
 },
 "nbformat": 4,
 "nbformat_minor": 5
}
