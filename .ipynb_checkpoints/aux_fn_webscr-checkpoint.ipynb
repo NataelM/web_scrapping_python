{
 "cells": [
  {
   "cell_type": "code",
   "execution_count": 3,
   "id": "434f847b-f307-4ddc-b376-5f8593eeda2f",
   "metadata": {},
   "outputs": [],
   "source": [
    "from urllib.request import urlopen\n",
    "from bs4 import BeautifulSoup"
   ]
  },
  {
   "cell_type": "code",
   "execution_count": 4,
   "id": "de404bc8-dde2-4465-ac73-5cd71fcce478",
   "metadata": {},
   "outputs": [],
   "source": [
    "def get_content(url:str):\n",
    "    '''\n",
    "    Esta función hace el scrapeo y Beautiful soup de la url dada\n",
    "    \n",
    "    busca la etiqueta 'h1'\n",
    "    \n",
    "    busca la etiqueta 'div' y extrae todo el contenido\n",
    "    \n",
    "    y regresa el contenido (content) de la etiqueta 'h1' (title)\n",
    "    '''\n",
    "    html = urlopen(url)\n",
    "    bs = BeautifulSoup(html.read(),\n",
    "                       'html.parser'\n",
    "                      )\n",
    "    title = bs.find('h1').text\n",
    "    \n",
    "    content = bs.find('div',\n",
    "                     id = 'content').text\n",
    "    \n",
    "    all_content = '\\n' + title + '\\n' + content.replace('\\n', '').lstrip()\n",
    "    \n",
    "    return all_content"
   ]
  },
  {
   "cell_type": "code",
   "execution_count": null,
   "id": "412c51bf-991d-46c7-b647-9f110fea5f61",
   "metadata": {},
   "outputs": [],
   "source": []
  }
 ],
 "metadata": {
  "kernelspec": {
   "display_name": "Python 3",
   "language": "python",
   "name": "python3"
  },
  "language_info": {
   "codemirror_mode": {
    "name": "ipython",
    "version": 3
   },
   "file_extension": ".py",
   "mimetype": "text/x-python",
   "name": "python",
   "nbconvert_exporter": "python",
   "pygments_lexer": "ipython3",
   "version": "3.8.13"
  }
 },
 "nbformat": 4,
 "nbformat_minor": 5
}
